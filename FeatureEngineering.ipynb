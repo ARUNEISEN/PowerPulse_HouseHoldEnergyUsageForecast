version https://git-lfs.github.com/spec/v1
oid sha256:b2de7cae2cc248767ac9a95d93259b59f086319fbd9b8868ad9ab80423ab55f7
size 105024
